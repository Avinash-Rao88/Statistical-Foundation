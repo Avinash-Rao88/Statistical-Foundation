{
 "cells": [
  {
   "cell_type": "markdown",
   "id": "68690bff",
   "metadata": {},
   "source": [
    "### Q.1:  Write a Brief note on different types of test and data used in that test. Explaining Null and Alternative Hypothesis for a given test. "
   ]
  },
  {
   "cell_type": "markdown",
   "id": "af3b17b5",
   "metadata": {},
   "source": [
    "Statistical tests are an important part of data analysis. They help us understand the data and make inferences about the population. They are used to examine relationships between variables based on hypothesis testing. Some of the most common types of statistical tests are:\n",
    "\n",
    "1.T-test: A t-test is used to compare the means of two groups (e.g. the average heights of men and women). It can be used with continuous data that are normally distributed and have equal variances. A t-test can be either one-tailed or two-tailed, depending on whether the difference between the means is expected to be in a specific direction or not.\n",
    "\n",
    "Sub Set\n",
    "\n",
    "(A.) Independent t-tests: An independent t-test is a statistical test used to determine whether the means of two groups are statistically different from each other. This test is often used when the data in each group are supplied by different people or when the groups are randomly assigned. The independent t-test is a parametric test, meaning that it requires that the data be normally distributed. The benefits of using an independent t-test include that it is relatively easy to use and has high statistical power. Let’s understand individual t-tests with an example. For example, a researcher might be interested in comparing the average reading scores of two groups of students – one group that is taking a course in English literature and one group that is taking a course in math. In this case, the researcher would use an independent t-test to compare the average reading scores of the two groups. The independent t-test allows for the comparison of two groups of unequal sizes. However, the independent t-test is limited to the comparison of two groups and cannot be used to compare more than two groups.\n",
    "\n",
    "\n",
    "(B.) Paired t-tests: The paired t-test is a statistical test that is used to compare the means of two groups. The groups are usually matched or paired together in some way. For example, you might have a group of people who receive a new treatment and a group of people who receive a placebo treatment. The two groups are then compared to see if there is a difference in the mean scores. The paired t-test is also used to compare the pre-treatment and post-treatment scores of a single group of people.\n",
    "\n",
    "\n",
    "\n",
    "2.ANOVA tests: ANOVA tests are a type of statistical test that is used to compare the means of more than two groups. There are several different types of ANOVA tests, including one-way ANOVA, two-way ANOVA, and repeated measures ANOVA. Each type of ANOVA test is used to compare different combinations of groups. The benefits of using an ANOVA test include that it is relatively easy to use and has high statistical power. Let’s understand with an example of where a one-way ANOVA test can be used. One real-world example of the one-way ANOVA in action is a study that can be conducted to compare the GRE scores of students from different income levels and find whether there are significant differences between the means of the three groups. One possible outcome of the tests can be that the students from families with higher incomes tended to score higher on the GRE than students from families with lower incomes. This study can be used to assess and examine inequalities in society.\n",
    "\n",
    "\n",
    "\n",
    "3.Chi-square test: Chi-square test of independence is a statistical test used to determine whether two variables are independent. It is a non-parametric test, meaning that it does not make assumptions about the distributions of the variables. The chi-square test is used to calculate a statistic called the chi-square statistic. This statistic is then compared to a critical value to determine whether the two variables are independent. If the chi-square statistic is greater than the critical value, then the two variables are considered to be dependent. Chi-square test of independence can be used to test for independence in a variety of situations, including comparing proportions, testing for association, and testing for goodness of fit.\n",
    "\n",
    "\n",
    "\n",
    "4.Z-test: The Z-test is a statistical test that is used to determine the statistical significance of a difference between two groups. It is most commonly used when the groups are small. The Z-test is based on the standard normal distribution, which is a statistical model that assumes that all observations are drawn from a population that has a normal distribution. This test is used to determine whether the difference between the means of the two groups is statistically significant.\n",
    "\n",
    "\n",
    "\n",
    "\n",
    "Null Hypothesis (Ho): \n",
    "\n",
    "The null hypothesis is the claim that there’s no effect in the population. If the sample provides enough evidence against the claim that there’s no effect in the population (p ≤ α), then we can reject the null hypothesis. Otherwise, we fail to reject the null hypothesis. Null hypotheses often include phrases such as “no effect,” “no difference,” or “no relationship.” When written in mathematical terms, they always include an equality (usually =, but sometimes ≥ or ≤). You can never know with complete certainty whether there is an effect in the population. Some percentage of the time, your inference about the population will be incorrect. When you incorrectly reject the null hypothesis, it’s called a type I error. When you incorrectly fail to reject it, it’s a type II error.\n",
    "\n",
    "\n",
    "\n",
    "Alternate Hypothesis (Ha):\n",
    "\n",
    "The alternative hypothesis (Ha) is the other answer to your research question. It claims that there’s an effect in the population. Often, your alternative hypothesis is the same as your research hypothesis. In other words, it’s the claim that you expect or hope will be true. The alternative hypothesis is the complement to the null hypothesis. Null and alternative hypotheses are exhaustive, meaning that together they cover every possible outcome. They are also mutually exclusive, meaning that only one can be true at a time. Alternative hypotheses often include phrases such as “an effect,” “a difference,” or “a relationship.” When alternative hypotheses are written in mathematical terms, they always include an inequality (usually ≠, but sometimes < or >). As with null hypotheses, there are many acceptable ways to phrase an alternative hypothesis.\n",
    "\n",
    "\n",
    "\n",
    "\n",
    "Exmaple:\n",
    "\n",
    "suppose we want to test whether the mean height of male students in a college is different from the mean height of female students. We can state the null and alternative hypotheses as follows:\n",
    "\n",
    "H0: The mean height of male students is equal to the mean height of female students. Ha: The mean height of male students is not equal to the mean height of female students.\n",
    "\n",
    "To test these hypotheses, we need to collect data from a sample of male and female students and calculate the sample means. Then we use a statistical test (such as a t-test) to compare the sample means and calculate a p-value. The p-value is the probability of obtaining the observed data (or more extreme) if the null hypothesis is true.\n",
    "\n",
    "If the p-value is very small (usually less than 0.05), it means that the data is very unlikely to occur under the null hypothesis, so we reject the null hypothesis and accept the alternative hypothesis. This means that we have enough evidence to support the claim that there is a difference in the mean heights of male and female students.\n",
    "\n",
    "If the p-value is not very small (usually greater than or equal to 0.05), it means that the data is not very unlikely to occur under the null hypothesis, so we fail to reject the null hypothesis and do not accept the alternative hypothesis. This means that we do not have enough evidence to support the claim that there is a difference in the mean heights of male and female students.\n",
    "\n",
    "Note that failing to reject the null hypothesis does not mean that we prove or accept the null hypothesis. It only means that we do not have enough evidence against it. There may be other factors or sources of error that affect the results."
   ]
  },
  {
   "cell_type": "code",
   "execution_count": null,
   "id": "de2261af",
   "metadata": {},
   "outputs": [],
   "source": []
  },
  {
   "cell_type": "markdown",
   "id": "dd657d08",
   "metadata": {},
   "source": [
    "### Q.2: Explain Sampling Techniques.  "
   ]
  },
  {
   "cell_type": "markdown",
   "id": "46f00190",
   "metadata": {},
   "source": [
    "Sampling techniques are methods used to select a subset of individuals or data points from a larger population for the purpose of making inferences about the population. These techniques are crucial in statistical analysis, as it's often impractical or impossible to study an entire population. Here are some common sampling techniques:\n",
    "\n",
    "1.Simple Random Sampling: Simple Random Sampling (SRS) is a subset of individuals chosen from a larger set (a population) in which each individual is chosen randomly, all with the same probability. It is a statistical method where every member of a population has an equal chance of being selected into a sample. This method is the most straightforward of all the probability sampling methods, since it only involves a single random selection and requires little advance knowledge about the population. \n",
    "\n",
    "Any research done on this sample should have high internal and external validity and be less susceptible to research biases like selection and sampling bias because it uses randomization. On the other hand, putting basic random sampling into practice can be difficult. There are a few requirements in order to use this method:\n",
    "\n",
    "\n",
    "You possess an exhaustive roster of every individual in the populace.\n",
    "If someone is chosen, you have access to or communication with every member of the population.\n",
    "You have the resources and time to gather information from the required sample size.\n",
    "\n",
    "\n",
    "Example: \n",
    "Suppose Company X, with 1000 employees all across, wants to find out the workspace preferences of its employees to decide whether to continue calling them to the office or allow them work-from-home or have a hybrid working space. So, the software prepares a list of staff members and assigns specific numbers to each of them, from 1-1000. \n",
    "The research team decides selecting 300 samples from the available number of employees. The software randomly selects 300 people from the list, and they become the samples for the study. Based on their responses, the company can proceed with the form of working space they should allow their employees.\n",
    "\n",
    "\n",
    "\n",
    "2.Stratified Sampling: Stratified sampling is a method of obtaining a representative sample from a population that researchers have divided into relatively similar subpopulations (strata). Researchers use stratified sampling to ensure specific subgroups are present in their sample. It also helps them obtain precise estimates of each group’s characteristics. Many surveys use this method to understand differences between subpopulations better. This technique is a probability sampling method, and it is also known as stratified random sampling. Strata, the plural of stratum, are the relatively homogeneous groups that researchers create from a heterogeneous population at the beginning of the stratified sampling procedure. Subsequently, they select a representative sample at random from each stratum and merge them to create their overall sample. Quota sampling is the process of selecting individuals from the strata using a method other than random selection.\n",
    "\n",
    "Example:\n",
    "Suppose you want to conduct a survey on the satisfaction level of the customers of a supermarket chain. The population of interest is all the customers who have shopped at any of the chain’s stores in the past year. You have access to the customer database, which contains information such as age, gender, location, and spending habits.\n",
    "\n",
    "You decide to use stratified sampling to select a sample of 500 customers. You first divide the population into four strata based on the location of the store they visited: North, South, East, and West. You then use simple random sampling to select 125 customers from each stratum. This way, you ensure that the sample reflects the geographic distribution of the population.\n",
    "\n",
    "You can then use the sample to calculate the mean satisfaction level of the customers, as well as the mean satisfaction level for each stratum. You can also compare the results across the strata to see if there are any significant differences in customer satisfaction based on location.\n",
    "\n",
    "\n",
    "\n",
    "\n",
    "3.Systematic Sampling: Systematic sampling is a statistical method used to select a sample from a larger population systematically and randomly. It is a widespread technique for researchers and analysts who want to gather data from a large population without surveying every individual. This method is beneficial when the population is large, diverse, or hard to reach.\n",
    "\n",
    "Example:\n",
    "in school, while selecting the captain of a sports team, most of our coaches asked us to call out numbers such as 1-5 (1-n) and the students with a random number decided by the coach. For instance, three would be called out as team captains. It is a non-stressful selection process for both the coach and the players. There’s an equal opportunity for every member of a population to be selected using this sampling bias technique.\n",
    "\n",
    "\n",
    "\n",
    "4.Convinience Sampling: Convenience sampling is a type of non-probability sampling that involves the sample being drawn from that part of the population that is close to hand. Convenience sampling is often used for qualitative research. Researchers use this sampling technique to recruit participants who are convenient and easily accessible. There are three primary reasons why a researcher would opt for convenience sampling—population size, timeframe, and accessibility. Convenience sampling is unlikely to meet the rigor expected of a research paper because conclusions drawn on the basis of a convenience sample have every chance of being biased.\n",
    "\n",
    "Example:\n",
    "\n",
    "Some examples of convenience sampling are:\n",
    "\n",
    "\n",
    "Recruiting friends or acquaintances to participate in your study\n",
    "Collecting data from nearby locations or online platforms\n",
    "Sending a survey in the mail or sharing a link on social media\n",
    "Surveying people in a mall, on the street, or at other crowded locations\n",
    "Using pre-existing groups, such as students or employees, as your sample\n",
    "\n",
    "\n",
    "Convenience sampling can be a quick and inexpensive way to collect data, but it can also introduce biases and limit the generalizability of your results. Therefore, you should be careful when using this method and consider its limitations when interpreting your findings"
   ]
  },
  {
   "cell_type": "code",
   "execution_count": null,
   "id": "9ccbb25d",
   "metadata": {},
   "outputs": [],
   "source": []
  },
  {
   "cell_type": "markdown",
   "id": "53dcb065",
   "metadata": {},
   "source": [
    "### Q.3: Write Most common characteristics used in descriptive statistics?  "
   ]
  },
  {
   "cell_type": "markdown",
   "id": "9befc87b",
   "metadata": {},
   "source": [
    "Descriptive statistics is a branch of statistics that deals with the summarization and description of collected data. The most common characteristics used in descriptive statistics are:\n",
    "\n",
    "1.Measures of central tendency:  Response stopped\n",
    "In statistics, measures of central tendency help you find the middle, or the average, of a dataset. The three most common measures of central tendency are the mean, median, and mode.\n",
    "\n",
    "Mean: The mean represents the average value of the dataset. It can be calculated as the sum of all the values in the dataset divided by the number of values.\n",
    "\n",
    "\n",
    "Median: The median is the middle value of the dataset in which the dataset is arranged in the ascending order or in descending order. When the dataset contains an even number of values, then the median value of the dataset can be found by taking the mean of the middle two values.\n",
    "\n",
    "\n",
    "Mode: The mode represents the frequently occurring value in the dataset.\n",
    "\n",
    "\n",
    "\n",
    "\n",
    "2.Measures of variability or dispersion:  These measures help to determine how stretched or squeezed the given data is. There are five most commonly used measures of dispersion. Measures of dispersion help to describe the variability in data. Dispersion is a statistical term that can be used to describe the extent to which data is scattered. Thus, measures of dispersion are certain types of measures that are used to quantify the dispersion of data.\n",
    "\n",
    "\n",
    "Range: The difference between the highest and lowest values in a data set.\n",
    "\n",
    "\n",
    "Variance: The extent of data dispersion from the average or central value.\n",
    "\n",
    "\n",
    "Standard deviation: The square root of the variance.\n",
    "\n",
    "\n",
    "Mean deviation: The average of the absolute deviations from the mean.\n",
    "\n",
    "\n",
    "Quartile deviation: The difference between the first and third quartiles.\n",
    "\n",
    "\n",
    "\n",
    "\n",
    "3.Measures of position: It give us a way to see where a certain data point or value falls in a sample or distribution. A measure can tell us whether a value is about the average, or whether it’s unusually high or low. Measures of position are used for quantitative data that falls on some numerical scale. Sometimes, measures can be applied to ordinal variables— those variables that have an order, like first, second…fiftieth.\n",
    "\n",
    "Measures of position can also show how to values from different distributions or measurement scales compare. For example, a person’s height (measured in feet) and weight (measured in pounds) can be compared by converting the measurements to z-scores.\n",
    "\n",
    "Common Measures of Position are:\n",
    "\n",
    "\n",
    "Box and Whiskers Plot\n",
    "Deciles\n",
    "Five Number Summary\n",
    "Interquartile Range (IQR)\n",
    "Outliers\n",
    "Percentiles\n",
    "Quartiles\n",
    "Standard scores (i.e. z-scores)\n",
    "\n",
    "\n",
    "\n",
    "\n",
    "4.Graphical representations: Data can be visually represented using various methods like bar graphs, histograms, pie charts, box plots, and scatter plots. These visuals provide a clear, intuitive way to understand the data.\n",
    "\n",
    "\n",
    "\n",
    "\n",
    "5.Measures of association: Measure of association, in statistics, any of various factors or coefficients used to quantify a relationship between two or more variables. Measures of association are used in various fields of research but are especially common in the areas of epidemiology and psychology, where they frequently are used to quantify relationships between exposures and diseases or behaviours.\n",
    "\n",
    "Methods\n",
    "\n",
    "\n",
    "Pearson’s correlation coefficient: A typical example for quantifying the association between two variables measured on an interval/ratio scale is the analysis of relationship between a person’s height and weight. Each of these two characteristic variables is measured on a continuous scale. The appropriate measure of association for this situation is Pearson’s correlation coefficient, which measures the strength of the linear relationship between two variables on a continuous scale.\n",
    "\n",
    "\n",
    "Spearman rank-order correlation coefficient: The Spearman rank-order correlation coefficient (Spearman rho) is designed to measure the strength of a monotonic association between two variables measured on an ordinal or ranked scale. Data that result from ranking and data collected on a scale that is not truly interval in nature subject to Spearman correlation analysis."
   ]
  },
  {
   "cell_type": "code",
   "execution_count": null,
   "id": "041138c5",
   "metadata": {},
   "outputs": [],
   "source": []
  },
  {
   "cell_type": "markdown",
   "id": "83fd7848",
   "metadata": {},
   "source": [
    "### Q.4: What is a 5-number summary with an example? "
   ]
  },
  {
   "cell_type": "markdown",
   "id": "c1eac691",
   "metadata": {},
   "source": [
    "A 5-number summary is a way to describe the distribution of a numerical variable using five statistics: the minimum, the first quartile, the median, the third quartile, and the maximum. These statistics show the central tendency, the variability, and the shape of the data. \n",
    "For example, suppose we have the following data:\n",
    "\n",
    "\n",
    "5, 8, 10, 15, 20, 25, 30\n",
    "\n",
    "\n",
    "The 5-number summary for this data is:\n",
    "\n",
    "\n",
    "Minimum: 5\n",
    "First quartile: 8.75\n",
    "Median: 15\n",
    "Third quartile: 23.75\n",
    "Maximum: 30\n",
    "\n",
    "\n",
    "You can also use a box plot to visualize the 5-number summary. A box plot is a graph that shows a box with whiskers extending from it. The box represents the interquartile range (IQR), which is the difference between the first and third quartiles. The median is marked by a line inside the box. The whiskers extend to the minimum and maximum values, unless there are outliers. Outliers are values that are far away from the rest of the data. They are usually marked by circles or stars. Here is a box plot for the example data:"
   ]
  },
  {
   "cell_type": "code",
   "execution_count": 1,
   "id": "2ff28e80",
   "metadata": {},
   "outputs": [],
   "source": [
    "import pandas as pd\n",
    "import numpy as np\n",
    "import seaborn as sns\n",
    "import matplotlib.pyplot as plt\n",
    "import warnings\n",
    "warnings.filterwarnings('ignore')"
   ]
  },
  {
   "cell_type": "code",
   "execution_count": 5,
   "id": "17aaf600",
   "metadata": {},
   "outputs": [
    {
     "data": {
      "image/png": "[encoded data removed]",
      "text/plain": [
       "<Figure size 640x480 with 1 Axes>"
      ]
     },
     "metadata": {},
     "output_type": "display_data"
    }
   ],
   "source": [
    "import matplotlib.pyplot as plt\n",
    "\n",
    "# Data\n",
    "data = [5, 8.75, 15, 23.75, 30]\n",
    "\n",
    "# Create a box plot\n",
    "plt.boxplot(data)\n",
    "\n",
    "# Adding labels\n",
    "plt.title('Box Plot')\n",
    "plt.xlabel('Data')\n",
    "plt.ylabel('Values')\n",
    "\n",
    "# Show the plot\n",
    "plt.show()\n"
   ]
  },
  {
   "cell_type": "markdown",
   "id": "ed994f35",
   "metadata": {},
   "source": [
    "The box plot shows that the data are symmetric, meaning that the median is in the middle of the box and the whiskers are of equal length. The data have no outliers, so the whiskers reach the minimum and maximum values. The IQR is 15, which indicates the spread of the middle 50% of the data. The 5-number summary and the box plot are useful tools for exploring and summarizing numerical data."
   ]
  },
  {
   "cell_type": "code",
   "execution_count": null,
   "id": "1907b2ca",
   "metadata": {},
   "outputs": [],
   "source": []
  },
  {
   "cell_type": "markdown",
   "id": "eaab08eb",
   "metadata": {},
   "source": [
    "### Q.5: When to use t distribution and when to use z distribution "
   ]
  },
  {
   "cell_type": "markdown",
   "id": "e1636ab0",
   "metadata": {},
   "source": [
    "The population standard deviation: The t-test is used when the population standard deviation is unknown, while the z-test is used when the population standard deviation is known.\n",
    "\n",
    "\n",
    "The sample size: The t-test is suitable for small samples (n < 30), while the z-test is appropriate for large samples (n > 30).\n",
    "\n",
    "\n",
    "The distribution: The t-test follows the Student’s t-distribution, which is affected by the degrees of freedom. The z-test follows the normal distribution, which is not influenced by the degrees of freedom.\n",
    "\n",
    "\n",
    "The standard error: The t-test uses the estimated standard error, which is calculated from the sample standard deviation. The z-test uses the standard error, which is derived from the population standard deviation.\n",
    "\n",
    "\n",
    "The proportion testing: The z-test can be used to test the difference between proportions when np > 10 and n(1 - p) > 10. The t-test is not used for proportion testing.\n",
    "\n",
    "\n",
    "\n",
    "We should use the z distribution when we know the population standard deviation. The t distribution should be used when the population standard deviation is unknown. If we do not know the population standard deviation and must estimate it using the sample standard deviation, we should use the t-test. The t-test is also used when the sample size is small (n < 30)."
   ]
  }
 ],
 "metadata": {
  "kernelspec": {
   "display_name": "Python 3 (ipykernel)",
   "language": "python",
   "name": "python3"
  },
  "language_info": {
   "codemirror_mode": {
    "name": "ipython",
    "version": 3
   },
   "file_extension": ".py",
   "mimetype": "text/x-python",
   "name": "python",
   "nbconvert_exporter": "python",
   "pygments_lexer": "ipython3",
   "version": "3.11.5"
  }
 },
 "nbformat": 4,
 "nbformat_minor": 5
}
